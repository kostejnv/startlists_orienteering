{
 "cells": [
  {
   "cell_type": "code",
   "execution_count": null,
   "outputs": [],
   "source": [
    "from os import listdir\n",
    "import json"
   ],
   "metadata": {
    "collapsed": false,
    "pycharm": {
     "name": "#%%\n"
    }
   }
  },
  {
   "cell_type": "code",
   "execution_count": 2,
   "metadata": {
    "collapsed": true
   },
   "outputs": [],
   "source": [
    "ids = listdir('data')\n",
    "\n",
    "for id in ids:\n",
    "    with open(f'data/{id}/event_info.json', 'r') as f:\n",
    "        classes = json.load(f)[\"Classes\"]\n",
    "\n",
    "    classes_names = [name['Name'] for name in classes.values()]\n",
    "    cat_constraints = {name:{'min_interval':2, 'vacants':2} for name in classes_names}\n",
    "\n",
    "    with open(f'data/{id}/category_constraints.json', 'w') as f:\n",
    "        json.dump(cat_constraints,f)\n"
   ]
  }
 ],
 "metadata": {
  "kernelspec": {
   "display_name": "Python 3",
   "language": "python",
   "name": "python3"
  },
  "language_info": {
   "codemirror_mode": {
    "name": "ipython",
    "version": 2
   },
   "file_extension": ".py",
   "mimetype": "text/x-python",
   "name": "python",
   "nbconvert_exporter": "python",
   "pygments_lexer": "ipython2",
   "version": "2.7.6"
  }
 },
 "nbformat": 4,
 "nbformat_minor": 0
}
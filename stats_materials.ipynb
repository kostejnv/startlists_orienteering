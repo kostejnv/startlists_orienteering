{
 "cells": [
  {
   "cell_type": "code",
   "execution_count": 4,
   "metadata": {
    "collapsed": true
   },
   "outputs": [
    {
     "name": "stdout",
     "output_type": "stream",
     "text": [
      "Name of statistic, max, min, median, mean, std\n",
      "The number of athletes,1412,204,604.00,684.82,374.60\n",
      "The number of categories,52,33,37.00,38.24,5.39\n",
      "The number of courses,39,14,25.00,27.65,8.71\n",
      "The number of 1st controls,20,7,11.00,12.29,3.84\n",
      "The longest category,80,19,58.00,51.29,19.10\n",
      "Maximal number of athletes in one minute,14,5,8.00,8.71,2.62\n"
     ]
    }
   ],
   "source": [
    "from typing import Callable,Iterable\n",
    "from os import listdir\n",
    "from input_manager.input_manager import Input_manager\n",
    "from statistics import median,mean,stdev\n",
    "\n",
    "ids = listdir('data')\n",
    "events = (Input_manager(id).get_event() for id in ids)\n",
    "\n",
    "def get_events() -> Iterable:\n",
    "    ids = listdir('data')\n",
    "    return (Input_manager(id).get_event() for id in ids)\n",
    "\n",
    "\n",
    "def get_CSV(name:str, values:Iterable)->str:\n",
    "    v_max = max(values)\n",
    "    v_min = min(values)\n",
    "    v_median = median(values)\n",
    "    v_average = mean(values)\n",
    "    v_std = stdev(values)\n",
    "    return f\"{name},{v_max},{v_min},{v_median:.2f},{v_average:.2f},{v_std:.2f}\"\n",
    "\n",
    "\n",
    "def get_row(name:str, get_value:Callable) ->str:\n",
    "    events = get_events()\n",
    "    values = [get_value(event) for event in events]\n",
    "    return get_CSV(name, values)\n",
    "\n",
    "def get_athletes_count(event):\n",
    "    cats = event.get_not_empty_categories_with_interval_start()\n",
    "    return sum([cat.get_category_count() for cat in cats.values()])\n",
    "\n",
    "def get_cats_count(event):\n",
    "    cats = event.get_not_empty_categories_with_interval_start()\n",
    "    return len(cats)\n",
    "\n",
    "def get_courses_count(event):\n",
    "    cats = event.get_not_empty_categories_with_interval_start()\n",
    "    courses = set([cat.course for cat in cats.values()])\n",
    "    return len(courses)\n",
    "\n",
    "def get_1stControls_count(event):\n",
    "    cats = event.get_not_empty_categories_with_interval_start()\n",
    "    first_controls = set([cat.first_control for cat in cats.values()])\n",
    "    return len(first_controls)\n",
    "\n",
    "def get_longest_cat(event):\n",
    "    cats = event.get_not_empty_categories_with_interval_start()\n",
    "    return max([cat.get_category_count() for cat in cats.values()])\n",
    "\n",
    "def get_capacity(event):\n",
    "    return event.capacity\n",
    "\n",
    "def print_table():\n",
    "    table = []\n",
    "\n",
    "    table.append(get_row(\"The number of athletes\", get_athletes_count))\n",
    "    table.append(get_row(\"The number of categories\", get_cats_count))\n",
    "    table.append(get_row(\"The number of courses\", get_courses_count))\n",
    "    table.append(get_row(\"The number of 1st controls\", get_1stControls_count))\n",
    "    table.append(get_row(\"The longest category\", get_longest_cat))\n",
    "    table.append(get_row(\"Maximal number of athletes in one minute\", get_capacity))\n",
    "\n",
    "    print(\"Name of statistic, max, min, median, mean, std\")\n",
    "    for row in table:\n",
    "        print(row)\n",
    "\n",
    "print_table()\n",
    "\n"
   ]
  }
 ],
 "metadata": {
  "kernelspec": {
   "display_name": "Python 3",
   "language": "python",
   "name": "python3"
  },
  "language_info": {
   "codemirror_mode": {
    "name": "ipython",
    "version": 2
   },
   "file_extension": ".py",
   "mimetype": "text/x-python",
   "name": "python",
   "nbconvert_exporter": "python",
   "pygments_lexer": "ipython2",
   "version": "2.7.6"
  }
 },
 "nbformat": 4,
 "nbformat_minor": 0
}
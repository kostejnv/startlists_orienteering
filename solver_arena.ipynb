{
 "cells": [
  {
   "cell_type": "markdown",
   "metadata": {
    "collapsed": true,
    "pycharm": {
     "name": "#%% md\n"
    }
   },
   "source": [
    "# Solver arena\n",
    "\n",
    "This notebook evaluates all solvers"
   ]
  },
  {
   "cell_type": "markdown",
   "source": [
    "### Imports"
   ],
   "metadata": {
    "collapsed": false,
    "pycharm": {
     "name": "#%% md\n"
    }
   }
  },
  {
   "cell_type": "code",
   "execution_count": 1,
   "outputs": [],
   "source": [
    "from evaluator import Evaluator"
   ],
   "metadata": {
    "collapsed": false,
    "pycharm": {
     "name": "#%%\n"
    }
   }
  },
  {
   "cell_type": "markdown",
   "source": [
    "## All in row Solver"
   ],
   "metadata": {
    "collapsed": false,
    "pycharm": {
     "name": "#%% md\n"
    }
   }
  },
  {
   "cell_type": "code",
   "execution_count": 2,
   "outputs": [
    {
     "name": "stdout",
     "output_type": "stream",
     "text": [
      "Evaluation begins...\n",
      "-----------------------------------------\n",
      "Evaluation of event 6410 begins...\n",
      "Evaluation of event 6410 finished with schedule length 235\n",
      "Duration of solving was 0.00010919570922851562s\n",
      "0 start time failed from 235\n",
      "Schedule is valid\n",
      "-----------------------------------------\n",
      "Evaluation of event 6399 begins...\n",
      "Evaluation of event 6399 finished with schedule length 1255\n",
      "Duration of solving was 0.00026917457580566406s\n",
      "0 start time failed from 1255\n",
      "Schedule is valid\n",
      "-----------------------------------------\n",
      "Evaluation of event 5035 begins...\n",
      "Evaluation of event 5035 finished with schedule length 564\n",
      "Duration of solving was 0.00016736984252929688s\n",
      "0 start time failed from 564\n",
      "Schedule is valid\n",
      "-----------------------------------------\n",
      "Evaluation of event 4481 begins...\n",
      "Evaluation of event 4481 finished with schedule length 1541\n",
      "Duration of solving was 0.0003414154052734375s\n",
      "0 start time failed from 1541\n",
      "Schedule is valid\n",
      "-----------------------------------------\n",
      "Evaluation of event 6199 begins...\n",
      "Evaluation of event 6199 finished with schedule length 2993\n",
      "Duration of solving was 0.0006783008575439453s\n",
      "0 start time failed from 2993\n",
      "Schedule is valid\n",
      "-----------------------------------------\n",
      "Evaluation of event 5044 begins...\n",
      "Evaluation of event 5044 finished with schedule length 1766\n",
      "Duration of solving was 0.00036454200744628906s\n",
      "0 start time failed from 1766\n",
      "Schedule is valid\n",
      "-----------------------------------------\n",
      "Evaluation of event 6408 begins...\n",
      "Evaluation of event 6408 finished with schedule length 1389\n",
      "Duration of solving was 0.0002396106719970703s\n",
      "0 start time failed from 1389\n",
      "Schedule is valid\n",
      "-----------------------------------------\n",
      "Evaluation of event 5493 begins...\n",
      "Evaluation of event 5493 finished with schedule length 2426\n",
      "Duration of solving was 0.0004048347473144531s\n",
      "0 start time failed from 2426\n",
      "Schedule is valid\n",
      "-----------------------------------------\n",
      "Evaluation of event 5040 begins...\n",
      "Evaluation of event 5040 finished with schedule length 1613\n",
      "Duration of solving was 0.0008022785186767578s\n",
      "0 start time failed from 1613\n",
      "Schedule is valid\n",
      "-----------------------------------------\n",
      "Evaluation of event 6411 begins...\n",
      "Evaluation of event 6411 finished with schedule length 224\n",
      "Duration of solving was 0.00011897087097167969s\n",
      "0 start time failed from 224\n",
      "Schedule is valid\n",
      "-----------------------------------------\n",
      "Evaluation of event 6407 begins...\n",
      "Evaluation of event 6407 finished with schedule length 1226\n",
      "Duration of solving was 0.00019741058349609375s\n",
      "0 start time failed from 1226\n",
      "Schedule is valid\n",
      "-----------------------------------------\n",
      "Evaluation of event 6405 begins...\n",
      "Evaluation of event 6405 finished with schedule length 1325\n",
      "Duration of solving was 0.00020456314086914062s\n",
      "0 start time failed from 1325\n",
      "Schedule is valid\n",
      "-----------------------------------------\n",
      "Evaluation of event 5036 begins...\n",
      "Evaluation of event 5036 finished with schedule length 1714\n",
      "Duration of solving was 0.0003249645233154297s\n",
      "0 start time failed from 1714\n",
      "Schedule is valid\n",
      "-----------------------------------------\n",
      "Evaluation of event 3774 begins...\n",
      "Evaluation of event 3774 finished with schedule length 1829\n",
      "Duration of solving was 0.0004401206970214844s\n",
      "0 start time failed from 1829\n",
      "Schedule is valid\n",
      "-----------------------------------------\n",
      "Evaluation of event 6200 begins...\n",
      "Evaluation of event 6200 finished with schedule length 2992\n",
      "Duration of solving was 0.0006017684936523438s\n",
      "0 start time failed from 2992\n",
      "Schedule is valid\n",
      "-----------------------------------------\n",
      "Evaluation of event 6406 begins...\n",
      "Evaluation of event 6406 finished with schedule length 1309\n",
      "Duration of solving was 0.00035572052001953125s\n",
      "0 start time failed from 1309\n",
      "Schedule is valid\n",
      "-----------------------------------------\n",
      "Evaluation of event 5492 begins...\n",
      "Evaluation of event 5492 finished with schedule length 2402\n",
      "Duration of solving was 0.0003941059112548828s\n",
      "0 start time failed from 2402\n",
      "Schedule is valid\n",
      "Evaluation finished\n"
     ]
    }
   ],
   "source": [
    "from solvers.all_in_row_solver import AllInRowSolver\n",
    "\n",
    "solver = AllInRowSolver()\n",
    "evaluator = Evaluator(solver, solver.get_name())\n",
    "evaluator.evaluate_solver(print_logs=True)"
   ],
   "metadata": {
    "collapsed": false,
    "pycharm": {
     "name": "#%%\n"
    }
   }
  },
  {
   "cell_type": "code",
   "execution_count": 3,
   "outputs": [
    {
     "name": "stdout",
     "output_type": "stream",
     "text": [
      "0 start time failed from 60\n",
      "SOLVER ERROR! In the time 5 there are more runners with control 45\n",
      "SOLVER ERROR! In the time 17 there are more runners with control 45\n",
      "SOLVER ERROR! In the time 29 there are more runners with control 45\n",
      "SOLVER ERROR! In the time 41 there are more runners with control 45\n",
      "SOLVER ERROR! In the time 53 there are more runners with control 45\n",
      "5 start time failed from 178\n",
      "0 start time failed from 81\n",
      "SOLVER ERROR! In the time 65 there are more runners with control 64\n",
      "SOLVER ERROR! In the time 71 there are more runners with control 64\n",
      "SOLVER ERROR! In the time 77 there are more runners with control 64\n",
      "SOLVER ERROR! In the time 83 there are more runners with control 64\n",
      "SOLVER ERROR! In the time 89 there are more runners with control 64\n",
      "SOLVER ERROR! In the time 95 there are more runners with control 64\n",
      "SOLVER ERROR! In the time 101 there are more runners with control 64\n",
      "SOLVER ERROR! In the time 107 there are more runners with control 64\n",
      "8 start time failed from 121\n",
      "0 start time failed from 187\n",
      "SOLVER ERROR! There should be D12 at the time 88 in the schedule\n",
      "0 start time failed from 158\n",
      "SOLVER ERROR! In the time 0 there are more runners with control 53\n",
      "SOLVER ERROR! In the time 6 there are more runners with control 53\n",
      "SOLVER ERROR! In the time 26 there are more runners with control 55\n",
      "SOLVER ERROR! In the time 32 there are more runners with control 55\n",
      "SOLVER ERROR! In the time 35 there are more runners with control 87\n",
      "SOLVER ERROR! In the time 38 there are more runners with control 55\n",
      "SOLVER ERROR! In the time 41 there are more runners with control 87\n",
      "SOLVER ERROR! In the time 44 there are more runners with control 55\n",
      "SOLVER ERROR! In the time 47 there are more runners with control 87\n",
      "SOLVER ERROR! In the time 51 there are more runners with control 53\n",
      "SOLVER ERROR! In the time 54 there are more runners with control 55\n",
      "SOLVER ERROR! In the time 60 there are more runners with control 55\n",
      "SOLVER ERROR! In the time 66 there are more runners with control 55\n",
      "SOLVER ERROR! In the time 72 there are more runners with control 55\n",
      "SOLVER ERROR! In the time 78 there are more runners with control 55\n",
      "15 start time failed from 107\n",
      "0 start time failed from 175\n",
      "SOLVER ERROR! In the time 2 there are more runners with control 35\n",
      "SOLVER ERROR! In the time 6 there are more runners with control 35\n",
      "SOLVER ERROR! In the time 10 there are more runners with control 35\n",
      "SOLVER ERROR! In the time 14 there are more runners with control 35\n",
      "SOLVER ERROR! In the time 18 there are more runners with control 35\n",
      "SOLVER ERROR! In the time 22 there are more runners with control 35\n",
      "SOLVER ERROR! In the time 26 there are more runners with control 35\n",
      "SOLVER ERROR! In the time 30 there are more runners with control 35\n",
      "SOLVER ERROR! In the time 34 there are more runners with control 35\n",
      "SOLVER ERROR! In the time 38 there are more runners with control 35\n",
      "10 start time failed from 117\n",
      "0 start time failed from 65\n",
      "SOLVER ERROR! In the time 23 there are more runners with control 151\n",
      "1 start time failed from 91\n",
      "0 start time failed from 188\n",
      "SOLVER ERROR! There should be D10L at the time 43 in the schedule\n",
      "0 start time failed from 118\n",
      "0 start time failed from 159\n",
      "0 start time failed from 211\n",
      "SOLVER ERROR! There should be H12 at the time 159 in the schedule\n",
      "0 start time failed from 118\n",
      "SOLVER ERROR! In the time 86 there are more runners with control 105\n",
      "SOLVER ERROR! In the time 114 there are more runners with control 106\n",
      "2 start time failed from 156\n"
     ]
    }
   ],
   "source": [
    "from solvers.human_solver import HumanSolver\n",
    "from os import listdir\n",
    "\n",
    "solver = HumanSolver(listdir(\"data\"))\n",
    "evaluator = Evaluator(solver, solver.get_name())\n",
    "evaluator.evaluate_solver(print_logs=True)"
   ],
   "metadata": {
    "collapsed": false,
    "pycharm": {
     "name": "#%%\n"
    }
   }
  },
  {
   "cell_type": "code",
   "execution_count": 4,
   "outputs": [
    {
     "data": {
      "text/plain": "      solver_name                       date  6410_length  6410_duration  \\\n0  AllInRowSolver 2021-11-14 12:47:48.708034          235       0.000096   \n0     HumanSolver 2021-11-14 12:47:48.891363           60       0.004471   \n0  AllInRowSolver 2022-03-15 18:16:20.891905          235       0.000089   \n0     HumanSolver 2022-03-15 18:16:21.151466           60       0.006039   \n0  AllInRowSolver 2022-03-16 19:53:50.090925          235       0.000109   \n0     HumanSolver 2022-03-16 19:53:50.349096           60       0.007130   \n\n   6410_valid  6399_length  6399_duration  6399_valid  5035_length  \\\n0        True         1255       0.000244        True          564   \n0        True          178       0.009157       False           81   \n0        True         1255       0.000212        True          564   \n0        True          178       0.009814       False           81   \n0        True         1255       0.000269        True          564   \n0        True          178       0.016959       False           81   \n\n   5035_duration  ...  3774_valid  6200_length  6200_duration  6200_valid  \\\n0       0.000213  ...        True         2992       0.000360        True   \n0       0.010761  ...        True          211       0.023335       False   \n0       0.000164  ...        True         2992       0.000631        True   \n0       0.010852  ...        True          211       0.036770       False   \n0       0.000167  ...        True         2992       0.000602        True   \n0       0.012165  ...        True          211       0.025731       False   \n\n   6406_length  6406_duration  6406_valid  5492_length  5492_duration  \\\n0         1309       0.000226        True         2402       0.000456   \n0          118       0.009221        True          156       0.019066   \n0         1309       0.000278        True         2402       0.000396   \n0          118       0.011402        True          156       0.023861   \n0         1309       0.000356        True         2402       0.000394   \n0          118       0.011930        True          156       0.023874   \n\n   5492_valid  \n0        True  \n0       False  \n0        True  \n0       False  \n0        True  \n0       False  \n\n[6 rows x 53 columns]",
      "text/html": "<div>\n<style scoped>\n    .dataframe tbody tr th:only-of-type {\n        vertical-align: middle;\n    }\n\n    .dataframe tbody tr th {\n        vertical-align: top;\n    }\n\n    .dataframe thead th {\n        text-align: right;\n    }\n</style>\n<table border=\"1\" class=\"dataframe\">\n  <thead>\n    <tr style=\"text-align: right;\">\n      <th></th>\n      <th>solver_name</th>\n      <th>date</th>\n      <th>6410_length</th>\n      <th>6410_duration</th>\n      <th>6410_valid</th>\n      <th>6399_length</th>\n      <th>6399_duration</th>\n      <th>6399_valid</th>\n      <th>5035_length</th>\n      <th>5035_duration</th>\n      <th>...</th>\n      <th>3774_valid</th>\n      <th>6200_length</th>\n      <th>6200_duration</th>\n      <th>6200_valid</th>\n      <th>6406_length</th>\n      <th>6406_duration</th>\n      <th>6406_valid</th>\n      <th>5492_length</th>\n      <th>5492_duration</th>\n      <th>5492_valid</th>\n    </tr>\n  </thead>\n  <tbody>\n    <tr>\n      <th>0</th>\n      <td>AllInRowSolver</td>\n      <td>2021-11-14 12:47:48.708034</td>\n      <td>235</td>\n      <td>0.000096</td>\n      <td>True</td>\n      <td>1255</td>\n      <td>0.000244</td>\n      <td>True</td>\n      <td>564</td>\n      <td>0.000213</td>\n      <td>...</td>\n      <td>True</td>\n      <td>2992</td>\n      <td>0.000360</td>\n      <td>True</td>\n      <td>1309</td>\n      <td>0.000226</td>\n      <td>True</td>\n      <td>2402</td>\n      <td>0.000456</td>\n      <td>True</td>\n    </tr>\n    <tr>\n      <th>0</th>\n      <td>HumanSolver</td>\n      <td>2021-11-14 12:47:48.891363</td>\n      <td>60</td>\n      <td>0.004471</td>\n      <td>True</td>\n      <td>178</td>\n      <td>0.009157</td>\n      <td>False</td>\n      <td>81</td>\n      <td>0.010761</td>\n      <td>...</td>\n      <td>True</td>\n      <td>211</td>\n      <td>0.023335</td>\n      <td>False</td>\n      <td>118</td>\n      <td>0.009221</td>\n      <td>True</td>\n      <td>156</td>\n      <td>0.019066</td>\n      <td>False</td>\n    </tr>\n    <tr>\n      <th>0</th>\n      <td>AllInRowSolver</td>\n      <td>2022-03-15 18:16:20.891905</td>\n      <td>235</td>\n      <td>0.000089</td>\n      <td>True</td>\n      <td>1255</td>\n      <td>0.000212</td>\n      <td>True</td>\n      <td>564</td>\n      <td>0.000164</td>\n      <td>...</td>\n      <td>True</td>\n      <td>2992</td>\n      <td>0.000631</td>\n      <td>True</td>\n      <td>1309</td>\n      <td>0.000278</td>\n      <td>True</td>\n      <td>2402</td>\n      <td>0.000396</td>\n      <td>True</td>\n    </tr>\n    <tr>\n      <th>0</th>\n      <td>HumanSolver</td>\n      <td>2022-03-15 18:16:21.151466</td>\n      <td>60</td>\n      <td>0.006039</td>\n      <td>True</td>\n      <td>178</td>\n      <td>0.009814</td>\n      <td>False</td>\n      <td>81</td>\n      <td>0.010852</td>\n      <td>...</td>\n      <td>True</td>\n      <td>211</td>\n      <td>0.036770</td>\n      <td>False</td>\n      <td>118</td>\n      <td>0.011402</td>\n      <td>True</td>\n      <td>156</td>\n      <td>0.023861</td>\n      <td>False</td>\n    </tr>\n    <tr>\n      <th>0</th>\n      <td>AllInRowSolver</td>\n      <td>2022-03-16 19:53:50.090925</td>\n      <td>235</td>\n      <td>0.000109</td>\n      <td>True</td>\n      <td>1255</td>\n      <td>0.000269</td>\n      <td>True</td>\n      <td>564</td>\n      <td>0.000167</td>\n      <td>...</td>\n      <td>True</td>\n      <td>2992</td>\n      <td>0.000602</td>\n      <td>True</td>\n      <td>1309</td>\n      <td>0.000356</td>\n      <td>True</td>\n      <td>2402</td>\n      <td>0.000394</td>\n      <td>True</td>\n    </tr>\n    <tr>\n      <th>0</th>\n      <td>HumanSolver</td>\n      <td>2022-03-16 19:53:50.349096</td>\n      <td>60</td>\n      <td>0.007130</td>\n      <td>True</td>\n      <td>178</td>\n      <td>0.016959</td>\n      <td>False</td>\n      <td>81</td>\n      <td>0.012165</td>\n      <td>...</td>\n      <td>True</td>\n      <td>211</td>\n      <td>0.025731</td>\n      <td>False</td>\n      <td>118</td>\n      <td>0.011930</td>\n      <td>True</td>\n      <td>156</td>\n      <td>0.023874</td>\n      <td>False</td>\n    </tr>\n  </tbody>\n</table>\n<p>6 rows × 53 columns</p>\n</div>"
     },
     "execution_count": 4,
     "metadata": {},
     "output_type": "execute_result"
    }
   ],
   "source": [
    "import pandas as pd\n",
    "\n",
    "pd.read_pickle('results.pkl')"
   ],
   "metadata": {
    "collapsed": false,
    "pycharm": {
     "name": "#%%\n"
    }
   }
  }
 ],
 "metadata": {
  "kernelspec": {
   "display_name": "Python 3",
   "language": "python",
   "name": "python3"
  },
  "language_info": {
   "codemirror_mode": {
    "name": "ipython",
    "version": 2
   },
   "file_extension": ".py",
   "mimetype": "text/x-python",
   "name": "python",
   "nbconvert_exporter": "python",
   "pygments_lexer": "ipython2",
   "version": "2.7.6"
  }
 },
 "nbformat": 4,
 "nbformat_minor": 0
}
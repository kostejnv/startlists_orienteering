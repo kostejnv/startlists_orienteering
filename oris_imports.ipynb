{
 "cells": [
  {
   "cell_type": "code",
   "execution_count": 1,
   "outputs": [],
   "source": [
    "import json\n",
    "from urllib.request import urlopen\n",
    "import os\n",
    "from os import listdir"
   ],
   "metadata": {
    "collapsed": false,
    "pycharm": {
     "name": "#%%\n"
    }
   }
  },
  {
   "cell_type": "code",
   "execution_count": 2,
   "outputs": [],
   "source": [
    "def download_entries(store_path, id):\n",
    "    url_events = f\"https://oris.orientacnisporty.cz/API/?format=json&method=getEventEntries&eventid={id}\"\n",
    "    response = urlopen(url_events)\n",
    "    data_json = json.loads(response.read())\n",
    "    with open(store_path, 'w') as outfile:\n",
    "        json.dump(data_json[\"Data\"], outfile)\n",
    "\n",
    "\n",
    "def download_startlists(store_path, id):\n",
    "    url_events = f\"https://oris.orientacnisporty.cz/API/?format=json&method=getEventStartLists&eventid={id}\"\n",
    "    response = urlopen(url_events)\n",
    "    data_json = json.loads(response.read())\n",
    "    with open(store_path, 'w') as outfile:\n",
    "        json.dump(data_json[\"Data\"], outfile)\n",
    "\n",
    "\n",
    "def download_classes(store_path, id):\n",
    "    url_events = f\"https://oris.orientacnisporty.cz/API/?format=json&method=getEvent&id={id}\"\n",
    "    response = urlopen(url_events)\n",
    "    data_json = json.loads(response.read())\n",
    "    with open(store_path, 'w') as outfile:\n",
    "        json.dump(data_json[\"Data\"], outfile)\n"
   ],
   "metadata": {
    "collapsed": false,
    "pycharm": {
     "name": "#%%\n"
    }
   }
  },
  {
   "cell_type": "code",
   "execution_count": 3,
   "outputs": [],
   "source": [
    "ids = listdir('data')\n",
    "\n",
    "for id in ids:\n",
    "    entries_filename = f'data/{id}/entries.json'\n",
    "    download_entries(entries_filename, id)\n",
    "\n",
    "    startlists_filename = f'data/{id}/startlists.json'\n",
    "    download_startlists(startlists_filename, id)\n",
    "\n",
    "    classes_filename = f'data/{id}/event_info.json'\n",
    "    download_classes(classes_filename, id)"
   ],
   "metadata": {
    "collapsed": false,
    "pycharm": {
     "name": "#%%\n"
    }
   }
  }
 ],
 "metadata": {
  "kernelspec": {
   "display_name": "Python 3",
   "language": "python",
   "name": "python3"
  },
  "language_info": {
   "codemirror_mode": {
    "name": "ipython",
    "version": 2
   },
   "file_extension": ".py",
   "mimetype": "text/x-python",
   "name": "python",
   "nbconvert_exporter": "python",
   "pygments_lexer": "ipython2",
   "version": "2.7.6"
  }
 },
 "nbformat": 4,
 "nbformat_minor": 0
}